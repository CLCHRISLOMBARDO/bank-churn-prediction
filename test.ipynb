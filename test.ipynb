{
 "cells": [
  {
   "cell_type": "code",
   "execution_count": 2,
   "id": "2226f0cb",
   "metadata": {},
   "outputs": [],
   "source": [
    "import numpy as np\n",
    "import matplotlib.pyplot as plt\n",
    "import pandas as pd\n",
    "import seaborn as sns\n",
    "import joblib\n",
    "from sklearn.ensemble import RandomForestClassifier\n"
   ]
  },
  {
   "cell_type": "code",
   "execution_count": 3,
   "id": "7490b8f6",
   "metadata": {},
   "outputs": [
    {
     "name": "stderr",
     "output_type": "stream",
     "text": [
      "C:\\Users\\chris\\AppData\\Local\\Temp\\ipykernel_14112\\4193464990.py:3: DtypeWarning: Columns (154) have mixed types. Specify dtype option on import or set low_memory=False.\n",
      "  df= pd.read_csv(data_path + data_file)\n"
     ]
    }
   ],
   "source": [
    "data_path = \"data/\"\n",
    "data_file = \"competencia_01.csv\"\n",
    "df= pd.read_csv(data_path + data_file)"
   ]
  },
  {
   "cell_type": "code",
   "execution_count": null,
   "id": "4e014fc0",
   "metadata": {},
   "outputs": [],
   "source": [
    "cat_cols =[]\n",
    "num_cols=[]\n",
    "col_drops=[\"numero_de_cliente\",\"foto_mes\",\"active_quarter\",\"clase_ternaria\",\"cliente_edad\",\"cliente_antiguedad\",\"active_quarter\"]\n",
    "for c in df.columns:\n",
    "    if (df[c].nunique() <= 5):\n",
    "        cat_cols.append(c)\n",
    "    else:\n",
    "        num_cols.append(c)\n",
    "lista_t=[c for c in list(map(lambda x : x if x[0]=='t' and x not in col_drops else np.nan ,df.columns )) if pd.notna(c)]\n",
    "lista_c=[c for c in list(map(lambda x : x if x[0]=='c' and x not in col_drops else np.nan ,df.columns )) if pd.notna(c)]\n",
    "lista_m=[c for c in list(map(lambda x : x if x[0]=='m' and x not in col_drops else np.nan ,df.columns )) if pd.notna(c)]\n",
    "lista_r=[c for c in df.columns if c not in (lista_t + lista_c + lista_m +col_drops )]\n",
    "\n",
    "\n",
    "# # Columnas lags y delta\n",
    "cols_lag_delta_max_min_regl=lista_m + lista_c+ lista_r+lista_r\n",
    "\n",
    "# # Columnas para regresion lineal y max-min\n",
    "# lista_regl_max_min = lista_m + lista_c+ lista_r+lista_r\n",
    "\n",
    "# # Columnas para los ratios\n",
    "cols_ratios=[]\n",
    "for c in lista_c:\n",
    "    i=0\n",
    "    while i < len(lista_m) and c[1:] != lista_m[i][1:]:\n",
    "        i+=1\n",
    "    if i < len(lista_m):\n",
    "        cols_ratios.append([lista_m[i],c ])\n",
    "\n"
   ]
  },
  {
   "cell_type": "code",
   "execution_count": 38,
   "id": "04f6dd72",
   "metadata": {},
   "outputs": [
    {
     "data": {
      "text/plain": [
       "False"
      ]
     },
     "execution_count": 38,
     "metadata": {},
     "output_type": "execute_result"
    }
   ],
   "source": [
    "\"foto_mes\" in cols_lag_delta_max_min_regl"
   ]
  },
  {
   "cell_type": "code",
   "execution_count": 37,
   "id": "394244cf",
   "metadata": {},
   "outputs": [
    {
     "data": {
      "text/plain": [
       "23"
      ]
     },
     "execution_count": 37,
     "metadata": {},
     "output_type": "execute_result"
    }
   ],
   "source": [
    "len(cols_ratios)"
   ]
  },
  {
   "cell_type": "code",
   "execution_count": 33,
   "id": "7714921b",
   "metadata": {},
   "outputs": [
    {
     "data": {
      "text/plain": [
       "[['mcuenta_corriente', 'ccuenta_corriente'],\n",
       " ['mcaja_ahorro', 'ccaja_ahorro'],\n",
       " ['mprestamos_personales', 'cprestamos_personales'],\n",
       " ['mprestamos_prendarios', 'cprestamos_prendarios'],\n",
       " ['mprestamos_hipotecarios', 'cprestamos_hipotecarios'],\n",
       " ['minversion2', 'cinversion2'],\n",
       " ['mcuenta_debitos_automaticos', 'ccuenta_debitos_automaticos'],\n",
       " ['mpagodeservicios', 'cpagodeservicios'],\n",
       " ['mpagomiscuentas', 'cpagomiscuentas'],\n",
       " ['mcajeros_propios_descuentos', 'ccajeros_propios_descuentos'],\n",
       " ['mtarjeta_visa_descuentos', 'ctarjeta_visa_descuentos'],\n",
       " ['mtarjeta_master_descuentos', 'ctarjeta_master_descuentos'],\n",
       " ['mcomisiones_mantenimiento', 'ccomisiones_mantenimiento'],\n",
       " ['mcomisiones_otras', 'ccomisiones_otras'],\n",
       " ['mforex_buy', 'cforex_buy'],\n",
       " ['mforex_sell', 'cforex_sell'],\n",
       " ['mtransferencias_recibidas', 'ctransferencias_recibidas'],\n",
       " ['mtransferencias_emitidas', 'ctransferencias_emitidas'],\n",
       " ['mextraccion_autoservicio', 'cextraccion_autoservicio'],\n",
       " ['mcheques_depositados', 'ccheques_depositados'],\n",
       " ['mcheques_emitidos', 'ccheques_emitidos'],\n",
       " ['mcheques_depositados_rechazados', 'ccheques_depositados_rechazados'],\n",
       " ['mcheques_emitidos_rechazados', 'ccheques_emitidos_rechazados']]"
      ]
     },
     "execution_count": 33,
     "metadata": {},
     "output_type": "execute_result"
    }
   ],
   "source": [
    "cols_ratios"
   ]
  },
  {
   "cell_type": "code",
   "execution_count": 30,
   "id": "34643b7e",
   "metadata": {},
   "outputs": [
    {
     "data": {
      "text/plain": [
       "23"
      ]
     },
     "execution_count": 30,
     "metadata": {},
     "output_type": "execute_result"
    }
   ],
   "source": [
    "len(cols_ratios)"
   ]
  },
  {
   "cell_type": "code",
   "execution_count": 19,
   "id": "e93a7f71",
   "metadata": {},
   "outputs": [
    {
     "data": {
      "text/plain": [
       "(978439, 155)"
      ]
     },
     "execution_count": 19,
     "metadata": {},
     "output_type": "execute_result"
    }
   ],
   "source": [
    "df.shape"
   ]
  },
  {
   "cell_type": "code",
   "execution_count": 24,
   "id": "fae8c778",
   "metadata": {},
   "outputs": [
    {
     "data": {
      "text/plain": [
       "['cliente_vip',\n",
       " 'cproductos',\n",
       " 'ccuenta_corriente',\n",
       " 'ccaja_ahorro',\n",
       " 'cdescubierto_preacordado',\n",
       " 'ctarjeta_debito',\n",
       " 'ctarjeta_debito_transacciones',\n",
       " 'ctarjeta_visa',\n",
       " 'ctarjeta_visa_transacciones',\n",
       " 'ctarjeta_master',\n",
       " 'ctarjeta_master_transacciones',\n",
       " 'cprestamos_personales',\n",
       " 'cprestamos_prendarios',\n",
       " 'cprestamos_hipotecarios',\n",
       " 'cplazo_fijo',\n",
       " 'cinversion1',\n",
       " 'cinversion2',\n",
       " 'cseguro_vida',\n",
       " 'cseguro_auto',\n",
       " 'cseguro_vivienda',\n",
       " 'cseguro_accidentes_personales',\n",
       " 'ccaja_seguridad',\n",
       " 'cpayroll_trx',\n",
       " 'cpayroll2_trx',\n",
       " 'ccuenta_debitos_automaticos',\n",
       " 'ctarjeta_visa_debitos_automaticos',\n",
       " 'ctarjeta_master_debitos_automaticos',\n",
       " 'cpagodeservicios',\n",
       " 'cpagomiscuentas',\n",
       " 'ccajeros_propios_descuentos',\n",
       " 'ctarjeta_visa_descuentos',\n",
       " 'ctarjeta_master_descuentos',\n",
       " 'ccomisiones_mantenimiento',\n",
       " 'ccomisiones_otras',\n",
       " 'cforex',\n",
       " 'cforex_buy',\n",
       " 'cforex_sell',\n",
       " 'ctransferencias_recibidas',\n",
       " 'ctransferencias_emitidas',\n",
       " 'cextraccion_autoservicio',\n",
       " 'ccheques_depositados',\n",
       " 'ccheques_emitidos',\n",
       " 'ccheques_depositados_rechazados',\n",
       " 'ccheques_emitidos_rechazados',\n",
       " 'ccallcenter_transacciones',\n",
       " 'chomebanking_transacciones',\n",
       " 'ccajas_transacciones',\n",
       " 'ccajas_consultas',\n",
       " 'ccajas_depositos',\n",
       " 'ccajas_extracciones',\n",
       " 'ccajas_otras',\n",
       " 'catm_trx',\n",
       " 'catm_trx_other',\n",
       " 'ctrx_quarter',\n",
       " 'cmobile_app_trx',\n",
       " 'mrentabilidad',\n",
       " 'mrentabilidad_annual',\n",
       " 'mcomisiones',\n",
       " 'mactivos_margen',\n",
       " 'mpasivos_margen',\n",
       " 'mcuenta_corriente_adicional',\n",
       " 'mcuenta_corriente',\n",
       " 'mcaja_ahorro',\n",
       " 'mcaja_ahorro_adicional',\n",
       " 'mcaja_ahorro_dolares',\n",
       " 'mcuentas_saldo',\n",
       " 'mautoservicio',\n",
       " 'mtarjeta_visa_consumo',\n",
       " 'mtarjeta_master_consumo',\n",
       " 'mprestamos_personales',\n",
       " 'mprestamos_prendarios',\n",
       " 'mprestamos_hipotecarios',\n",
       " 'mplazo_fijo_dolares',\n",
       " 'mplazo_fijo_pesos',\n",
       " 'minversion1_pesos',\n",
       " 'minversion1_dolares',\n",
       " 'minversion2',\n",
       " 'mpayroll',\n",
       " 'mpayroll2',\n",
       " 'mcuenta_debitos_automaticos',\n",
       " 'mttarjeta_visa_debitos_automaticos',\n",
       " 'mttarjeta_master_debitos_automaticos',\n",
       " 'mpagodeservicios',\n",
       " 'mpagomiscuentas',\n",
       " 'mcajeros_propios_descuentos',\n",
       " 'mtarjeta_visa_descuentos',\n",
       " 'mtarjeta_master_descuentos',\n",
       " 'mcomisiones_mantenimiento',\n",
       " 'mcomisiones_otras',\n",
       " 'mforex_buy',\n",
       " 'mforex_sell',\n",
       " 'mtransferencias_recibidas',\n",
       " 'mtransferencias_emitidas',\n",
       " 'mextraccion_autoservicio',\n",
       " 'mcheques_depositados',\n",
       " 'mcheques_emitidos',\n",
       " 'mcheques_depositados_rechazados',\n",
       " 'mcheques_emitidos_rechazados',\n",
       " 'matm',\n",
       " 'matm_other',\n",
       " 'tcuentas',\n",
       " 'tcallcenter',\n",
       " 'thomebanking',\n",
       " 'tmobile_app',\n",
       " 'internet',\n",
       " 'Master_delinquency',\n",
       " 'Master_status',\n",
       " 'Master_mfinanciacion_limite',\n",
       " 'Master_Fvencimiento',\n",
       " 'Master_Finiciomora',\n",
       " 'Master_msaldototal',\n",
       " 'Master_msaldopesos',\n",
       " 'Master_msaldodolares',\n",
       " 'Master_mconsumospesos',\n",
       " 'Master_mconsumosdolares',\n",
       " 'Master_mlimitecompra',\n",
       " 'Master_madelantopesos',\n",
       " 'Master_madelantodolares',\n",
       " 'Master_fultimo_cierre',\n",
       " 'Master_mpagado',\n",
       " 'Master_mpagospesos',\n",
       " 'Master_mpagosdolares',\n",
       " 'Master_fechaalta',\n",
       " 'Master_mconsumototal',\n",
       " 'Master_cconsumos',\n",
       " 'Master_cadelantosefectivo',\n",
       " 'Master_mpagominimo',\n",
       " 'Visa_delinquency',\n",
       " 'Visa_status',\n",
       " 'Visa_mfinanciacion_limite',\n",
       " 'Visa_Fvencimiento',\n",
       " 'Visa_Finiciomora',\n",
       " 'Visa_msaldototal',\n",
       " 'Visa_msaldopesos',\n",
       " 'Visa_msaldodolares',\n",
       " 'Visa_mconsumospesos',\n",
       " 'Visa_mconsumosdolares',\n",
       " 'Visa_mlimitecompra',\n",
       " 'Visa_madelantopesos',\n",
       " 'Visa_madelantodolares',\n",
       " 'Visa_fultimo_cierre',\n",
       " 'Visa_mpagado',\n",
       " 'Visa_mpagospesos',\n",
       " 'Visa_mpagosdolares',\n",
       " 'Visa_fechaalta',\n",
       " 'Visa_mconsumototal',\n",
       " 'Visa_cconsumos',\n",
       " 'Visa_cadelantosefectivo',\n",
       " 'Visa_mpagominimo']"
      ]
     },
     "execution_count": 24,
     "metadata": {},
     "output_type": "execute_result"
    }
   ],
   "source": [
    "lista_c+lista_m + lista_t +lista_r"
   ]
  },
  {
   "cell_type": "code",
   "execution_count": 27,
   "id": "5b801559",
   "metadata": {},
   "outputs": [
    {
     "data": {
      "text/plain": [
       "['Master_delinquency',\n",
       " 'Master_status',\n",
       " 'Visa_delinquency',\n",
       " 'Visa_status',\n",
       " 'active_quarter',\n",
       " 'ccajas_transacciones',\n",
       " 'ccuenta_corriente',\n",
       " 'cdescubierto_preacordado',\n",
       " 'clase_ternaria',\n",
       " 'cliente_vip',\n",
       " 'cmobile_app_trx',\n",
       " 'cseguro_accidentes_personales',\n",
       " 'cseguro_vida',\n",
       " 'ctarjeta_master',\n",
       " 'ctarjeta_visa',\n",
       " 'internet',\n",
       " 'tcallcenter',\n",
       " 'tcuentas',\n",
       " 'thomebanking',\n",
       " 'tmobile_app']"
      ]
     },
     "execution_count": 27,
     "metadata": {},
     "output_type": "execute_result"
    }
   ],
   "source": [
    "sorted(cat_cols)"
   ]
  },
  {
   "cell_type": "code",
   "execution_count": 13,
   "id": "e4b53e16",
   "metadata": {},
   "outputs": [
    {
     "data": {
      "text/plain": [
       "['tcuentas', 'tcallcenter', 'thomebanking', 'tmobile_app']"
      ]
     },
     "execution_count": 13,
     "metadata": {},
     "output_type": "execute_result"
    }
   ],
   "source": [
    "lista_t"
   ]
  },
  {
   "cell_type": "code",
   "execution_count": 14,
   "id": "ee24c130",
   "metadata": {},
   "outputs": [
    {
     "data": {
      "text/plain": [
       "['cliente_vip',\n",
       " 'cproductos',\n",
       " 'ccuenta_corriente',\n",
       " 'ccaja_ahorro',\n",
       " 'cdescubierto_preacordado',\n",
       " 'ctarjeta_debito',\n",
       " 'ctarjeta_debito_transacciones',\n",
       " 'ctarjeta_visa',\n",
       " 'ctarjeta_visa_transacciones',\n",
       " 'ctarjeta_master',\n",
       " 'ctarjeta_master_transacciones',\n",
       " 'cprestamos_personales',\n",
       " 'cprestamos_prendarios',\n",
       " 'cprestamos_hipotecarios',\n",
       " 'cplazo_fijo',\n",
       " 'cinversion1',\n",
       " 'cinversion2',\n",
       " 'cseguro_vida',\n",
       " 'cseguro_auto',\n",
       " 'cseguro_vivienda',\n",
       " 'cseguro_accidentes_personales',\n",
       " 'ccaja_seguridad',\n",
       " 'cpayroll_trx',\n",
       " 'cpayroll2_trx',\n",
       " 'ccuenta_debitos_automaticos',\n",
       " 'ctarjeta_visa_debitos_automaticos',\n",
       " 'ctarjeta_master_debitos_automaticos',\n",
       " 'cpagodeservicios',\n",
       " 'cpagomiscuentas',\n",
       " 'ccajeros_propios_descuentos',\n",
       " 'ctarjeta_visa_descuentos',\n",
       " 'ctarjeta_master_descuentos',\n",
       " 'ccomisiones_mantenimiento',\n",
       " 'ccomisiones_otras',\n",
       " 'cforex',\n",
       " 'cforex_buy',\n",
       " 'cforex_sell',\n",
       " 'ctransferencias_recibidas',\n",
       " 'ctransferencias_emitidas',\n",
       " 'cextraccion_autoservicio',\n",
       " 'ccheques_depositados',\n",
       " 'ccheques_emitidos',\n",
       " 'ccheques_depositados_rechazados',\n",
       " 'ccheques_emitidos_rechazados',\n",
       " 'ccallcenter_transacciones',\n",
       " 'chomebanking_transacciones',\n",
       " 'ccajas_transacciones',\n",
       " 'ccajas_consultas',\n",
       " 'ccajas_depositos',\n",
       " 'ccajas_extracciones',\n",
       " 'ccajas_otras',\n",
       " 'catm_trx',\n",
       " 'catm_trx_other',\n",
       " 'ctrx_quarter',\n",
       " 'cmobile_app_trx']"
      ]
     },
     "execution_count": 14,
     "metadata": {},
     "output_type": "execute_result"
    }
   ],
   "source": [
    "lista_c"
   ]
  },
  {
   "cell_type": "code",
   "execution_count": 15,
   "id": "bcef0c74",
   "metadata": {},
   "outputs": [
    {
     "data": {
      "text/plain": [
       "['mrentabilidad',\n",
       " 'mrentabilidad_annual',\n",
       " 'mcomisiones',\n",
       " 'mactivos_margen',\n",
       " 'mpasivos_margen',\n",
       " 'mcuenta_corriente_adicional',\n",
       " 'mcuenta_corriente',\n",
       " 'mcaja_ahorro',\n",
       " 'mcaja_ahorro_adicional',\n",
       " 'mcaja_ahorro_dolares',\n",
       " 'mcuentas_saldo',\n",
       " 'mautoservicio',\n",
       " 'mtarjeta_visa_consumo',\n",
       " 'mtarjeta_master_consumo',\n",
       " 'mprestamos_personales',\n",
       " 'mprestamos_prendarios',\n",
       " 'mprestamos_hipotecarios',\n",
       " 'mplazo_fijo_dolares',\n",
       " 'mplazo_fijo_pesos',\n",
       " 'minversion1_pesos',\n",
       " 'minversion1_dolares',\n",
       " 'minversion2',\n",
       " 'mpayroll',\n",
       " 'mpayroll2',\n",
       " 'mcuenta_debitos_automaticos',\n",
       " 'mttarjeta_visa_debitos_automaticos',\n",
       " 'mttarjeta_master_debitos_automaticos',\n",
       " 'mpagodeservicios',\n",
       " 'mpagomiscuentas',\n",
       " 'mcajeros_propios_descuentos',\n",
       " 'mtarjeta_visa_descuentos',\n",
       " 'mtarjeta_master_descuentos',\n",
       " 'mcomisiones_mantenimiento',\n",
       " 'mcomisiones_otras',\n",
       " 'mforex_buy',\n",
       " 'mforex_sell',\n",
       " 'mtransferencias_recibidas',\n",
       " 'mtransferencias_emitidas',\n",
       " 'mextraccion_autoservicio',\n",
       " 'mcheques_depositados',\n",
       " 'mcheques_emitidos',\n",
       " 'mcheques_depositados_rechazados',\n",
       " 'mcheques_emitidos_rechazados',\n",
       " 'matm',\n",
       " 'matm_other']"
      ]
     },
     "execution_count": 15,
     "metadata": {},
     "output_type": "execute_result"
    }
   ],
   "source": [
    "lista_m"
   ]
  },
  {
   "cell_type": "code",
   "execution_count": 18,
   "id": "21709c5b",
   "metadata": {},
   "outputs": [
    {
     "data": {
      "text/plain": [
       "['internet',\n",
       " 'Master_delinquency',\n",
       " 'Master_status',\n",
       " 'Master_mfinanciacion_limite',\n",
       " 'Master_Fvencimiento',\n",
       " 'Master_Finiciomora',\n",
       " 'Master_msaldototal',\n",
       " 'Master_msaldopesos',\n",
       " 'Master_msaldodolares',\n",
       " 'Master_mconsumospesos',\n",
       " 'Master_mconsumosdolares',\n",
       " 'Master_mlimitecompra',\n",
       " 'Master_madelantopesos',\n",
       " 'Master_madelantodolares',\n",
       " 'Master_fultimo_cierre',\n",
       " 'Master_mpagado',\n",
       " 'Master_mpagospesos',\n",
       " 'Master_mpagosdolares',\n",
       " 'Master_fechaalta',\n",
       " 'Master_mconsumototal',\n",
       " 'Master_cconsumos',\n",
       " 'Master_cadelantosefectivo',\n",
       " 'Master_mpagominimo',\n",
       " 'Visa_delinquency',\n",
       " 'Visa_status',\n",
       " 'Visa_mfinanciacion_limite',\n",
       " 'Visa_Fvencimiento',\n",
       " 'Visa_Finiciomora',\n",
       " 'Visa_msaldototal',\n",
       " 'Visa_msaldopesos',\n",
       " 'Visa_msaldodolares',\n",
       " 'Visa_mconsumospesos',\n",
       " 'Visa_mconsumosdolares',\n",
       " 'Visa_mlimitecompra',\n",
       " 'Visa_madelantopesos',\n",
       " 'Visa_madelantodolares',\n",
       " 'Visa_fultimo_cierre',\n",
       " 'Visa_mpagado',\n",
       " 'Visa_mpagospesos',\n",
       " 'Visa_mpagosdolares',\n",
       " 'Visa_fechaalta',\n",
       " 'Visa_mconsumototal',\n",
       " 'Visa_cconsumos',\n",
       " 'Visa_cadelantosefectivo',\n",
       " 'Visa_mpagominimo']"
      ]
     },
     "execution_count": 18,
     "metadata": {},
     "output_type": "execute_result"
    }
   ],
   "source": [
    "lista_r"
   ]
  },
  {
   "cell_type": "code",
   "execution_count": 11,
   "id": "9d70996b",
   "metadata": {},
   "outputs": [
    {
     "data": {
      "text/plain": [
       "['active_quarter',\n",
       " 'cliente_vip',\n",
       " 'internet',\n",
       " 'tcuentas',\n",
       " 'ccuenta_corriente',\n",
       " 'cdescubierto_preacordado',\n",
       " 'ctarjeta_visa',\n",
       " 'ctarjeta_master',\n",
       " 'cseguro_vida',\n",
       " 'cseguro_accidentes_personales',\n",
       " 'tcallcenter',\n",
       " 'thomebanking',\n",
       " 'ccajas_transacciones',\n",
       " 'tmobile_app',\n",
       " 'cmobile_app_trx',\n",
       " 'Master_delinquency',\n",
       " 'Master_status',\n",
       " 'Visa_delinquency',\n",
       " 'Visa_status',\n",
       " 'clase_ternaria']"
      ]
     },
     "execution_count": 11,
     "metadata": {},
     "output_type": "execute_result"
    }
   ],
   "source": [
    "cat_cols"
   ]
  },
  {
   "cell_type": "code",
   "execution_count": 7,
   "id": "3ad978ea",
   "metadata": {},
   "outputs": [
    {
     "data": {
      "text/plain": [
       "['cliente_edad',\n",
       " 'cliente_antiguedad',\n",
       " 'cproductos',\n",
       " 'ccaja_ahorro',\n",
       " 'ctarjeta_debito',\n",
       " 'ctarjeta_debito_transacciones',\n",
       " 'ctarjeta_visa_transacciones',\n",
       " 'ctarjeta_master_transacciones',\n",
       " 'cprestamos_personales',\n",
       " 'cprestamos_prendarios',\n",
       " 'cprestamos_hipotecarios',\n",
       " 'cplazo_fijo',\n",
       " 'cinversion1',\n",
       " 'cinversion2',\n",
       " 'cseguro_auto',\n",
       " 'cseguro_vivienda',\n",
       " 'ccaja_seguridad',\n",
       " 'cpayroll_trx',\n",
       " 'cpayroll2_trx',\n",
       " 'ccuenta_debitos_automaticos',\n",
       " 'ctarjeta_visa_debitos_automaticos',\n",
       " 'ctarjeta_master_debitos_automaticos',\n",
       " 'cpagodeservicios',\n",
       " 'cpagomiscuentas',\n",
       " 'ccajeros_propios_descuentos',\n",
       " 'ctarjeta_visa_descuentos',\n",
       " 'ctarjeta_master_descuentos',\n",
       " 'ccomisiones_mantenimiento',\n",
       " 'ccomisiones_otras',\n",
       " 'cforex',\n",
       " 'cforex_buy',\n",
       " 'cforex_sell',\n",
       " 'ctransferencias_recibidas',\n",
       " 'ctransferencias_emitidas',\n",
       " 'cextraccion_autoservicio',\n",
       " 'ccheques_depositados',\n",
       " 'ccheques_emitidos',\n",
       " 'ccheques_depositados_rechazados',\n",
       " 'ccheques_emitidos_rechazados',\n",
       " 'ccallcenter_transacciones',\n",
       " 'chomebanking_transacciones',\n",
       " 'ccajas_consultas',\n",
       " 'ccajas_depositos',\n",
       " 'ccajas_extracciones',\n",
       " 'ccajas_otras',\n",
       " 'catm_trx',\n",
       " 'catm_trx_other',\n",
       " 'ctrx_quarter']"
      ]
     },
     "execution_count": 7,
     "metadata": {},
     "output_type": "execute_result"
    }
   ],
   "source": [
    "lista_c"
   ]
  },
  {
   "cell_type": "code",
   "execution_count": 6,
   "id": "bd205df7",
   "metadata": {},
   "outputs": [
    {
     "data": {
      "text/plain": [
       "['numero_de_cliente',\n",
       " 'foto_mes',\n",
       " 'Master_mfinanciacion_limite',\n",
       " 'Master_Fvencimiento',\n",
       " 'Master_Finiciomora',\n",
       " 'Master_msaldototal',\n",
       " 'Master_msaldopesos',\n",
       " 'Master_msaldodolares',\n",
       " 'Master_mconsumospesos',\n",
       " 'Master_mconsumosdolares',\n",
       " 'Master_mlimitecompra',\n",
       " 'Master_madelantopesos',\n",
       " 'Master_madelantodolares',\n",
       " 'Master_fultimo_cierre',\n",
       " 'Master_mpagado',\n",
       " 'Master_mpagospesos',\n",
       " 'Master_mpagosdolares',\n",
       " 'Master_fechaalta',\n",
       " 'Master_mconsumototal',\n",
       " 'Master_cconsumos',\n",
       " 'Master_cadelantosefectivo',\n",
       " 'Master_mpagominimo',\n",
       " 'Visa_mfinanciacion_limite',\n",
       " 'Visa_Fvencimiento',\n",
       " 'Visa_Finiciomora',\n",
       " 'Visa_msaldototal',\n",
       " 'Visa_msaldopesos',\n",
       " 'Visa_msaldodolares',\n",
       " 'Visa_mconsumospesos',\n",
       " 'Visa_mconsumosdolares',\n",
       " 'Visa_mlimitecompra',\n",
       " 'Visa_madelantopesos',\n",
       " 'Visa_madelantodolares',\n",
       " 'Visa_fultimo_cierre',\n",
       " 'Visa_mpagado',\n",
       " 'Visa_mpagospesos',\n",
       " 'Visa_mpagosdolares',\n",
       " 'Visa_fechaalta',\n",
       " 'Visa_mconsumototal',\n",
       " 'Visa_cconsumos',\n",
       " 'Visa_cadelantosefectivo',\n",
       " 'Visa_mpagominimo']"
      ]
     },
     "execution_count": 6,
     "metadata": {},
     "output_type": "execute_result"
    }
   ],
   "source": [
    "lista_r"
   ]
  },
  {
   "cell_type": "code",
   "execution_count": 5,
   "id": "5e99c9be",
   "metadata": {},
   "outputs": [
    {
     "data": {
      "text/plain": [
       "['mrentabilidad',\n",
       " 'mrentabilidad_annual',\n",
       " 'mcomisiones',\n",
       " 'mactivos_margen',\n",
       " 'mpasivos_margen',\n",
       " 'mcuenta_corriente_adicional',\n",
       " 'mcuenta_corriente',\n",
       " 'mcaja_ahorro',\n",
       " 'mcaja_ahorro_adicional',\n",
       " 'mcaja_ahorro_dolares',\n",
       " 'mcuentas_saldo',\n",
       " 'mautoservicio',\n",
       " 'mtarjeta_visa_consumo',\n",
       " 'mtarjeta_master_consumo',\n",
       " 'mprestamos_personales',\n",
       " 'mprestamos_prendarios',\n",
       " 'mprestamos_hipotecarios',\n",
       " 'mplazo_fijo_dolares',\n",
       " 'mplazo_fijo_pesos',\n",
       " 'minversion1_pesos',\n",
       " 'minversion1_dolares',\n",
       " 'minversion2',\n",
       " 'mpayroll',\n",
       " 'mpayroll2',\n",
       " 'mcuenta_debitos_automaticos',\n",
       " 'mttarjeta_visa_debitos_automaticos',\n",
       " 'mttarjeta_master_debitos_automaticos',\n",
       " 'mpagodeservicios',\n",
       " 'mpagomiscuentas',\n",
       " 'mcajeros_propios_descuentos',\n",
       " 'mtarjeta_visa_descuentos',\n",
       " 'mtarjeta_master_descuentos',\n",
       " 'mcomisiones_mantenimiento',\n",
       " 'mcomisiones_otras',\n",
       " 'mforex_buy',\n",
       " 'mforex_sell',\n",
       " 'mtransferencias_recibidas',\n",
       " 'mtransferencias_emitidas',\n",
       " 'mextraccion_autoservicio',\n",
       " 'mcheques_depositados',\n",
       " 'mcheques_emitidos',\n",
       " 'mcheques_depositados_rechazados',\n",
       " 'mcheques_emitidos_rechazados',\n",
       " 'matm',\n",
       " 'matm_other',\n",
       " 'cproductos',\n",
       " 'ccaja_ahorro',\n",
       " 'ctarjeta_debito',\n",
       " 'ctarjeta_debito_transacciones',\n",
       " 'ctarjeta_visa_transacciones',\n",
       " 'ctarjeta_master_transacciones',\n",
       " 'cprestamos_personales',\n",
       " 'cprestamos_prendarios',\n",
       " 'cprestamos_hipotecarios',\n",
       " 'cplazo_fijo',\n",
       " 'cinversion1',\n",
       " 'cinversion2',\n",
       " 'cseguro_auto',\n",
       " 'cseguro_vivienda',\n",
       " 'ccaja_seguridad',\n",
       " 'cpayroll_trx',\n",
       " 'cpayroll2_trx',\n",
       " 'ccuenta_debitos_automaticos',\n",
       " 'ctarjeta_visa_debitos_automaticos',\n",
       " 'ctarjeta_master_debitos_automaticos',\n",
       " 'cpagodeservicios',\n",
       " 'cpagomiscuentas',\n",
       " 'ccajeros_propios_descuentos',\n",
       " 'ctarjeta_visa_descuentos',\n",
       " 'ctarjeta_master_descuentos',\n",
       " 'ccomisiones_mantenimiento',\n",
       " 'ccomisiones_otras',\n",
       " 'cforex',\n",
       " 'cforex_buy',\n",
       " 'cforex_sell',\n",
       " 'ctransferencias_recibidas',\n",
       " 'ctransferencias_emitidas',\n",
       " 'cextraccion_autoservicio',\n",
       " 'ccheques_depositados',\n",
       " 'ccheques_emitidos',\n",
       " 'ccheques_depositados_rechazados',\n",
       " 'ccheques_emitidos_rechazados',\n",
       " 'ccallcenter_transacciones',\n",
       " 'chomebanking_transacciones',\n",
       " 'ccajas_consultas',\n",
       " 'ccajas_depositos',\n",
       " 'ccajas_extracciones',\n",
       " 'ccajas_otras',\n",
       " 'catm_trx',\n",
       " 'catm_trx_other',\n",
       " 'ctrx_quarter',\n",
       " 'foto_mes',\n",
       " 'Master_mfinanciacion_limite',\n",
       " 'Master_Fvencimiento',\n",
       " 'Master_Finiciomora',\n",
       " 'Master_msaldototal',\n",
       " 'Master_msaldopesos',\n",
       " 'Master_msaldodolares',\n",
       " 'Master_mconsumospesos',\n",
       " 'Master_mconsumosdolares',\n",
       " 'Master_mlimitecompra',\n",
       " 'Master_madelantopesos',\n",
       " 'Master_madelantodolares',\n",
       " 'Master_fultimo_cierre',\n",
       " 'Master_mpagado',\n",
       " 'Master_mpagospesos',\n",
       " 'Master_mpagosdolares',\n",
       " 'Master_fechaalta',\n",
       " 'Master_mconsumototal',\n",
       " 'Master_cconsumos',\n",
       " 'Master_cadelantosefectivo',\n",
       " 'Master_mpagominimo',\n",
       " 'Visa_mfinanciacion_limite',\n",
       " 'Visa_Fvencimiento',\n",
       " 'Visa_Finiciomora',\n",
       " 'Visa_msaldototal',\n",
       " 'Visa_msaldopesos',\n",
       " 'Visa_msaldodolares',\n",
       " 'Visa_mconsumospesos',\n",
       " 'Visa_mconsumosdolares',\n",
       " 'Visa_mlimitecompra',\n",
       " 'Visa_madelantopesos',\n",
       " 'Visa_madelantodolares',\n",
       " 'Visa_fultimo_cierre',\n",
       " 'Visa_mpagado',\n",
       " 'Visa_mpagospesos',\n",
       " 'Visa_mpagosdolares',\n",
       " 'Visa_fechaalta',\n",
       " 'Visa_mconsumototal',\n",
       " 'Visa_cconsumos',\n",
       " 'Visa_cadelantosefectivo',\n",
       " 'Visa_mpagominimo']"
      ]
     },
     "execution_count": 5,
     "metadata": {},
     "output_type": "execute_result"
    }
   ],
   "source": [
    "cols_lag_delta"
   ]
  },
  {
   "cell_type": "code",
   "execution_count": null,
   "id": "f418103a",
   "metadata": {},
   "outputs": [],
   "source": []
  },
  {
   "cell_type": "code",
   "execution_count": null,
   "id": "b31c6095",
   "metadata": {},
   "outputs": [],
   "source": [
    "with open(\"outputs/rf_model__completo_2025-09-20_00-11-18_2025-09-20 00_38_32.sav\",)"
   ]
  }
 ],
 "metadata": {
  "kernelspec": {
   "display_name": "env_comp1",
   "language": "python",
   "name": "python3"
  },
  "language_info": {
   "codemirror_mode": {
    "name": "ipython",
    "version": 3
   },
   "file_extension": ".py",
   "mimetype": "text/x-python",
   "name": "python",
   "nbconvert_exporter": "python",
   "pygments_lexer": "ipython3",
   "version": "3.11.9"
  }
 },
 "nbformat": 4,
 "nbformat_minor": 5
}
