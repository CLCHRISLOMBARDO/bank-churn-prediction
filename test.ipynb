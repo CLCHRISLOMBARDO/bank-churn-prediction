{
 "cells": [
  {
   "cell_type": "code",
   "execution_count": 2,
   "id": "a57bb7cb",
   "metadata": {},
   "outputs": [
    {
     "name": "stdout",
     "output_type": "stream",
     "text": [
      "emb1 - namme1 - 4\n",
      "emb1 - namme1 - 5\n",
      "emb1 - namme1 - 6\n",
      "emb1 - namme1 - 7\n",
      "emb2 - name2 - 4\n",
      "emb2 - name2 - 5\n",
      "emb2 - name2 - 6\n",
      "emb2 - name2 - 7\n"
     ]
    }
   ],
   "source": [
    "clusters=[4,5,6,7]\n",
    "embeddings = [\"emb1\",\"emb2\"]\n",
    "names = [\"namme1\" , \"name2\"]\n",
    "for emb,name in zip(embeddings,names):\n",
    "    for k in clusters:\n",
    "        print(f\"{emb} - {name} - {k}\")"
   ]
  },
  {
   "cell_type": "code",
   "execution_count": 3,
   "id": "f1b26a90",
   "metadata": {},
   "outputs": [],
   "source": [
    "import duckdb \n",
    "import pandas as pd\n",
    "import numpy as np\n",
    "import matplotlib.pyplot as plt\n",
    "import seaborn as sns\n",
    "from sklearn.ensemble import RandomForestClassifier\n",
    "from sklearn.cluster import KMeans\n",
    "import joblib\n",
    "\n",
    "from src.constr_lista_cols import contruccion_cols\n",
    "from src.feature_engineering import feature_engineering_lag , feature_engineering_delta ,feature_engineering_ratio,feature_engineering_linreg\n",
    "\n",
    "%load_ext sql\n",
    "%config SqlMagic.autopandas = True\n",
    "%config SqlMagic.feedback = False\n",
    "%config SqlMagic.displaycon = False\n",
    "\n",
    "%sql duckdb"
   ]
  },
  {
   "cell_type": "code",
   "execution_count": 4,
   "id": "8b355f0b",
   "metadata": {},
   "outputs": [
    {
     "name": "stderr",
     "output_type": "stream",
     "text": [
      "C:\\Users\\chris\\AppData\\Local\\Temp\\ipykernel_30856\\4193464990.py:3: DtypeWarning: Columns (154) have mixed types. Specify dtype option on import or set low_memory=False.\n",
      "  df= pd.read_csv(data_path + data_file)\n"
     ]
    }
   ],
   "source": [
    "data_path = \"data/\"\n",
    "data_file = \"competencia_01.csv\"\n",
    "df= pd.read_csv(data_path + data_file)"
   ]
  },
  {
   "cell_type": "code",
   "execution_count": 5,
   "id": "6f291ae9",
   "metadata": {},
   "outputs": [
    {
     "data": {
      "text/plain": [
       "Index(['numero_de_cliente', 'foto_mes', 'active_quarter', 'cliente_vip',\n",
       "       'internet', 'cliente_edad', 'cliente_antiguedad', 'mrentabilidad',\n",
       "       'mrentabilidad_annual', 'mcomisiones',\n",
       "       ...\n",
       "       'Visa_fultimo_cierre', 'Visa_mpagado', 'Visa_mpagospesos',\n",
       "       'Visa_mpagosdolares', 'Visa_fechaalta', 'Visa_mconsumototal',\n",
       "       'Visa_cconsumos', 'Visa_cadelantosefectivo', 'Visa_mpagominimo',\n",
       "       'clase_ternaria'],\n",
       "      dtype='object', length=155)"
      ]
     },
     "execution_count": 5,
     "metadata": {},
     "output_type": "execute_result"
    }
   ],
   "source": [
    "df.columns"
   ]
  },
  {
   "cell_type": "code",
   "execution_count": 3,
   "id": "72e844f7",
   "metadata": {},
   "outputs": [
    {
     "name": "stdout",
     "output_type": "stream",
     "text": [
      "0 48 45 42 20\n",
      "155\n"
     ]
    }
   ],
   "source": [
    "columnas = contruccion_cols(df)\n"
   ]
  },
  {
   "cell_type": "code",
   "execution_count": 5,
   "id": "3bc00266",
   "metadata": {},
   "outputs": [
    {
     "data": {
      "text/plain": [
       "150"
      ]
     },
     "execution_count": 5,
     "metadata": {},
     "output_type": "execute_result"
    }
   ],
   "source": [
    "len(columnas[3])"
   ]
  },
  {
   "cell_type": "code",
   "execution_count": 7,
   "id": "7dc5575c",
   "metadata": {},
   "outputs": [],
   "source": [
    "lista=[1,2,3,4,5]"
   ]
  },
  {
   "cell_type": "code",
   "execution_count": null,
   "id": "f5b8ffa1",
   "metadata": {},
   "outputs": [],
   "source": []
  },
  {
   "cell_type": "code",
   "execution_count": 10,
   "id": "0e5d0c99",
   "metadata": {},
   "outputs": [
    {
     "data": {
      "text/plain": [
       "1"
      ]
     },
     "execution_count": 10,
     "metadata": {},
     "output_type": "execute_result"
    }
   ],
   "source": [
    "a[0]"
   ]
  },
  {
   "cell_type": "code",
   "execution_count": null,
   "id": "7569700a",
   "metadata": {},
   "outputs": [],
   "source": []
  }
 ],
 "metadata": {
  "kernelspec": {
   "display_name": "env_comp1",
   "language": "python",
   "name": "python3"
  },
  "language_info": {
   "codemirror_mode": {
    "name": "ipython",
    "version": 3
   },
   "file_extension": ".py",
   "mimetype": "text/x-python",
   "name": "python",
   "nbconvert_exporter": "python",
   "pygments_lexer": "ipython3",
   "version": "3.11.9"
  }
 },
 "nbformat": 4,
 "nbformat_minor": 5
}
