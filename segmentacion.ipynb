{
 "cells": [
  {
   "cell_type": "code",
   "execution_count": 1,
   "id": "12c9c4e6",
   "metadata": {},
   "outputs": [
    {
     "name": "stderr",
     "output_type": "stream",
     "text": [
      "c:\\Users\\chris\\Data_science\\Ms Data Mining UBA\\2do_Cuatrimestre\\EyF\\competencia\\bank-churn-prediction\\env_comp1\\Lib\\site-packages\\tqdm\\auto.py:21: TqdmWarning: IProgress not found. Please update jupyter and ipywidgets. See https://ipywidgets.readthedocs.io/en/stable/user_install.html\n",
      "  from .autonotebook import tqdm as notebook_tqdm\n"
     ]
    },
    {
     "ename": "ImportError",
     "evalue": "cannot import name 'UMAP' from 'umap' (c:\\Users\\chris\\Data_science\\Ms Data Mining UBA\\2do_Cuatrimestre\\EyF\\competencia\\bank-churn-prediction\\env_comp1\\Lib\\site-packages\\umap\\__init__.py)",
     "output_type": "error",
     "traceback": [
      "\u001b[31m---------------------------------------------------------------------------\u001b[39m",
      "\u001b[31mImportError\u001b[39m                               Traceback (most recent call last)",
      "\u001b[36mCell\u001b[39m\u001b[36m \u001b[39m\u001b[32mIn[1]\u001b[39m\u001b[32m, line 10\u001b[39m\n\u001b[32m      8\u001b[39m \u001b[38;5;28;01mfrom\u001b[39;00m\u001b[38;5;250m \u001b[39m\u001b[34;01msrc\u001b[39;00m\u001b[34;01m.\u001b[39;00m\u001b[34;01mfeature_engineering\u001b[39;00m\u001b[38;5;250m \u001b[39m\u001b[38;5;28;01mimport\u001b[39;00m feature_engineering_lag , feature_engineering_delta\n\u001b[32m      9\u001b[39m \u001b[38;5;28;01mfrom\u001b[39;00m\u001b[38;5;250m \u001b[39m\u001b[34;01msrc\u001b[39;00m\u001b[34;01m.\u001b[39;00m\u001b[34;01mrandom_forests\u001b[39;00m\u001b[38;5;250m \u001b[39m\u001b[38;5;28;01mimport\u001b[39;00m optim_hiperp , entrenamiento_rf,_imputacion\n\u001b[32m---> \u001b[39m\u001b[32m10\u001b[39m \u001b[38;5;28;01mfrom\u001b[39;00m\u001b[38;5;250m \u001b[39m\u001b[34;01msrc\u001b[39;00m\u001b[34;01m.\u001b[39;00m\u001b[34;01mred_dim\u001b[39;00m\u001b[38;5;250m \u001b[39m\u001b[38;5;28;01mimport\u001b[39;00m distanceMatrix , red_umap \n\u001b[32m     12\u001b[39m get_ipython().run_line_magic(\u001b[33m'\u001b[39m\u001b[33mload_ext\u001b[39m\u001b[33m'\u001b[39m, \u001b[33m'\u001b[39m\u001b[33msql\u001b[39m\u001b[33m'\u001b[39m)\n\u001b[32m     13\u001b[39m get_ipython().run_line_magic(\u001b[33m'\u001b[39m\u001b[33mconfig\u001b[39m\u001b[33m'\u001b[39m, \u001b[33m'\u001b[39m\u001b[33mSqlMagic.autopandas = True\u001b[39m\u001b[33m'\u001b[39m)\n",
      "\u001b[36mFile \u001b[39m\u001b[32mc:\\Users\\chris\\Data_science\\Ms Data Mining UBA\\2do_Cuatrimestre\\EyF\\competencia\\bank-churn-prediction\\src\\red_dim.py:4\u001b[39m\n\u001b[32m      2\u001b[39m \u001b[38;5;28;01mimport\u001b[39;00m\u001b[38;5;250m \u001b[39m\u001b[34;01mnumpy\u001b[39;00m\u001b[38;5;250m \u001b[39m\u001b[38;5;28;01mas\u001b[39;00m\u001b[38;5;250m \u001b[39m\u001b[34;01mnp\u001b[39;00m\n\u001b[32m      3\u001b[39m \u001b[38;5;28;01mfrom\u001b[39;00m\u001b[38;5;250m \u001b[39m\u001b[34;01msklearn\u001b[39;00m\u001b[34;01m.\u001b[39;00m\u001b[34;01mensemble\u001b[39;00m\u001b[38;5;250m \u001b[39m\u001b[38;5;28;01mimport\u001b[39;00m RandomForestClassifier\n\u001b[32m----> \u001b[39m\u001b[32m4\u001b[39m \u001b[38;5;28;01mfrom\u001b[39;00m\u001b[38;5;250m \u001b[39m\u001b[34;01mumap\u001b[39;00m\u001b[38;5;250m \u001b[39m\u001b[38;5;28;01mimport\u001b[39;00m UMAP\n\u001b[32m      7\u001b[39m \u001b[38;5;28;01mdef\u001b[39;00m\u001b[38;5;250m \u001b[39m\u001b[34mdistanceMatrix\u001b[39m(model:RandomForestClassifier, X:pd.DataFrame|np.ndarray)->np.ndarray:\n\u001b[32m      9\u001b[39m     terminals = model.apply(X)\n",
      "\u001b[31mImportError\u001b[39m: cannot import name 'UMAP' from 'umap' (c:\\Users\\chris\\Data_science\\Ms Data Mining UBA\\2do_Cuatrimestre\\EyF\\competencia\\bank-churn-prediction\\env_comp1\\Lib\\site-packages\\umap\\__init__.py)"
     ]
    }
   ],
   "source": [
    "\n",
    "import duckdb \n",
    "import pandas as pd\n",
    "import numpy as np\n",
    "import matplotlib.pyplot as plt\n",
    "import seaborn as sns\n",
    "from sklearn.ensemble import RandomForestClassifier\n",
    "from sklearn.cluster import KMeans\n",
    "from src.feature_engineering import feature_engineering_lag , feature_engineering_delta\n",
    "from src.random_forests import optim_hiperp , entrenamiento_rf,_imputacion\n",
    "from src.red_dim import distanceMatrix , red_umap \n",
    "\n",
    "%load_ext sql\n",
    "%config SqlMagic.autopandas = True\n",
    "%config SqlMagic.feedback = False\n",
    "%config SqlMagic.displaycon = False\n",
    "\n",
    "%sql duckdb"
   ]
  },
  {
   "cell_type": "code",
   "execution_count": 2,
   "id": "e2b4bb0e",
   "metadata": {},
   "outputs": [
    {
     "name": "stderr",
     "output_type": "stream",
     "text": [
      "C:\\Users\\chris\\AppData\\Local\\Temp\\ipykernel_10708\\4193464990.py:3: DtypeWarning: Columns (154) have mixed types. Specify dtype option on import or set low_memory=False.\n",
      "  df= pd.read_csv(data_path + data_file)\n"
     ]
    }
   ],
   "source": [
    "data_path = \"data/\"\n",
    "data_file = \"competencia_01.csv\"\n",
    "df= pd.read_csv(data_path + data_file)"
   ]
  },
  {
   "cell_type": "markdown",
   "id": "69b97ccf",
   "metadata": {},
   "source": [
    "#"
   ]
  },
  {
   "cell_type": "code",
   "execution_count": 3,
   "id": "af9f6d76",
   "metadata": {},
   "outputs": [],
   "source": [
    "cat_cols =[]\n",
    "num_cols=[]\n",
    "for c in df.columns:\n",
    "    if (df[c].nunique() <= 5):\n",
    "        cat_cols.append(c)\n",
    "    else:\n",
    "        num_cols.append(c)"
   ]
  },
  {
   "cell_type": "code",
   "execution_count": 4,
   "id": "871714ce",
   "metadata": {},
   "outputs": [
    {
     "name": "stdout",
     "output_type": "stream",
     "text": [
      "0 48 45 42 20\n",
      "155\n"
     ]
    }
   ],
   "source": [
    "lista_t=[c for c in list(map(lambda x : x if x[0]=='t' and x not in cat_cols else np.nan ,df.columns )) if pd.notna(c)]\n",
    "lista_c=[c for c in list(map(lambda x : x if x[0]=='c' and x not in cat_cols else np.nan ,df.columns )) if pd.notna(c)]\n",
    "lista_m=[c for c in list(map(lambda x : x if x[0]=='m' and x not in cat_cols else np.nan ,df.columns )) if pd.notna(c)]\n",
    "lista_r=[c for c in df.columns if c not in (lista_t + lista_c + lista_m + cat_cols)]\n",
    "print(len(lista_t) , len(lista_c) , len(lista_m) , len(lista_r) , len(cat_cols))\n",
    "print(len(lista_t) + len(lista_c) + len(lista_m) +len(lista_r) + len(cat_cols))"
   ]
  },
  {
   "cell_type": "code",
   "execution_count": 5,
   "id": "44a542ed",
   "metadata": {},
   "outputs": [],
   "source": [
    "col_drops=[\"cliente_edad\",\"numero_de_cliente\",\"cliente_antiguedad\"]"
   ]
  },
  {
   "cell_type": "code",
   "execution_count": 6,
   "id": "22c93fa6",
   "metadata": {},
   "outputs": [
    {
     "data": {
      "text/plain": [
       "['mrentabilidad',\n",
       " 'mrentabilidad_annual',\n",
       " 'mcomisiones',\n",
       " 'mactivos_margen',\n",
       " 'mpasivos_margen',\n",
       " 'mcuenta_corriente_adicional',\n",
       " 'mcuenta_corriente',\n",
       " 'mcaja_ahorro',\n",
       " 'mcaja_ahorro_adicional',\n",
       " 'mcaja_ahorro_dolares',\n",
       " 'mcuentas_saldo',\n",
       " 'mautoservicio',\n",
       " 'mtarjeta_visa_consumo',\n",
       " 'mtarjeta_master_consumo',\n",
       " 'mprestamos_personales',\n",
       " 'mprestamos_prendarios',\n",
       " 'mprestamos_hipotecarios',\n",
       " 'mplazo_fijo_dolares',\n",
       " 'mplazo_fijo_pesos',\n",
       " 'minversion1_pesos',\n",
       " 'minversion1_dolares',\n",
       " 'minversion2',\n",
       " 'mpayroll',\n",
       " 'mpayroll2',\n",
       " 'mcuenta_debitos_automaticos',\n",
       " 'mttarjeta_visa_debitos_automaticos',\n",
       " 'mttarjeta_master_debitos_automaticos',\n",
       " 'mpagodeservicios',\n",
       " 'mpagomiscuentas',\n",
       " 'mcajeros_propios_descuentos',\n",
       " 'mtarjeta_visa_descuentos',\n",
       " 'mtarjeta_master_descuentos',\n",
       " 'mcomisiones_mantenimiento',\n",
       " 'mcomisiones_otras',\n",
       " 'mforex_buy',\n",
       " 'mforex_sell',\n",
       " 'mtransferencias_recibidas',\n",
       " 'mtransferencias_emitidas',\n",
       " 'mextraccion_autoservicio',\n",
       " 'mcheques_depositados',\n",
       " 'mcheques_emitidos',\n",
       " 'mcheques_depositados_rechazados',\n",
       " 'mcheques_emitidos_rechazados',\n",
       " 'matm',\n",
       " 'matm_other',\n",
       " 'cproductos',\n",
       " 'ccaja_ahorro',\n",
       " 'ctarjeta_debito',\n",
       " 'ctarjeta_debito_transacciones',\n",
       " 'ctarjeta_visa_transacciones',\n",
       " 'ctarjeta_master_transacciones',\n",
       " 'cprestamos_personales',\n",
       " 'cprestamos_prendarios',\n",
       " 'cprestamos_hipotecarios',\n",
       " 'cplazo_fijo',\n",
       " 'cinversion1',\n",
       " 'cinversion2',\n",
       " 'cseguro_auto',\n",
       " 'cseguro_vivienda',\n",
       " 'ccaja_seguridad',\n",
       " 'cpayroll_trx',\n",
       " 'cpayroll2_trx',\n",
       " 'ccuenta_debitos_automaticos',\n",
       " 'ctarjeta_visa_debitos_automaticos',\n",
       " 'ctarjeta_master_debitos_automaticos',\n",
       " 'cpagodeservicios',\n",
       " 'cpagomiscuentas',\n",
       " 'ccajeros_propios_descuentos',\n",
       " 'ctarjeta_visa_descuentos',\n",
       " 'ctarjeta_master_descuentos',\n",
       " 'ccomisiones_mantenimiento',\n",
       " 'ccomisiones_otras',\n",
       " 'cforex',\n",
       " 'cforex_buy',\n",
       " 'cforex_sell',\n",
       " 'ctransferencias_recibidas',\n",
       " 'ctransferencias_emitidas',\n",
       " 'cextraccion_autoservicio',\n",
       " 'ccheques_depositados',\n",
       " 'ccheques_emitidos',\n",
       " 'ccheques_depositados_rechazados',\n",
       " 'ccheques_emitidos_rechazados',\n",
       " 'ccallcenter_transacciones',\n",
       " 'chomebanking_transacciones',\n",
       " 'ccajas_consultas',\n",
       " 'ccajas_depositos',\n",
       " 'ccajas_extracciones',\n",
       " 'ccajas_otras',\n",
       " 'catm_trx',\n",
       " 'catm_trx_other',\n",
       " 'ctrx_quarter',\n",
       " 'foto_mes',\n",
       " 'Master_mfinanciacion_limite',\n",
       " 'Master_Fvencimiento',\n",
       " 'Master_Finiciomora',\n",
       " 'Master_msaldototal',\n",
       " 'Master_msaldopesos',\n",
       " 'Master_msaldodolares',\n",
       " 'Master_mconsumospesos',\n",
       " 'Master_mconsumosdolares',\n",
       " 'Master_mlimitecompra',\n",
       " 'Master_madelantopesos',\n",
       " 'Master_madelantodolares',\n",
       " 'Master_fultimo_cierre',\n",
       " 'Master_mpagado',\n",
       " 'Master_mpagospesos',\n",
       " 'Master_mpagosdolares',\n",
       " 'Master_fechaalta',\n",
       " 'Master_mconsumototal',\n",
       " 'Master_cconsumos',\n",
       " 'Master_cadelantosefectivo',\n",
       " 'Master_mpagominimo',\n",
       " 'Visa_mfinanciacion_limite',\n",
       " 'Visa_Fvencimiento',\n",
       " 'Visa_Finiciomora',\n",
       " 'Visa_msaldototal',\n",
       " 'Visa_msaldopesos',\n",
       " 'Visa_msaldodolares',\n",
       " 'Visa_mconsumospesos',\n",
       " 'Visa_mconsumosdolares',\n",
       " 'Visa_mlimitecompra',\n",
       " 'Visa_madelantopesos',\n",
       " 'Visa_madelantodolares',\n",
       " 'Visa_fultimo_cierre',\n",
       " 'Visa_mpagado',\n",
       " 'Visa_mpagospesos',\n",
       " 'Visa_mpagosdolares',\n",
       " 'Visa_fechaalta',\n",
       " 'Visa_mconsumototal',\n",
       " 'Visa_cconsumos',\n",
       " 'Visa_cadelantosefectivo',\n",
       " 'Visa_mpagominimo']"
      ]
     },
     "execution_count": 6,
     "metadata": {},
     "output_type": "execute_result"
    }
   ],
   "source": [
    "cols_transf_previo=lista_m + lista_c+ lista_r\n",
    "cols_trans = [c for c in cols_transf_previo if c not in col_drops]\n",
    "cols_trans"
   ]
  },
  {
   "cell_type": "code",
   "execution_count": 7,
   "id": "a0a24dc5",
   "metadata": {},
   "outputs": [
    {
     "name": "stdout",
     "output_type": "stream",
     "text": [
      "ejecucion lag finalizada\n",
      "ejecucion delta finalizada\n"
     ]
    }
   ],
   "source": [
    "df_2 = feature_engineering_lag(df ,cols_trans , 2)\n",
    "df_3 = feature_engineering_delta(df_2 ,cols_trans , 2)"
   ]
  },
  {
   "cell_type": "markdown",
   "id": "7243d7f6",
   "metadata": {},
   "source": [
    "# OPTIMIZACION HIPERPARAMETROS\n"
   ]
  },
  {
   "cell_type": "code",
   "execution_count": 8,
   "id": "c9513430",
   "metadata": {},
   "outputs": [],
   "source": [
    "mes =202104\n",
    "f = df_3[\"foto_mes\"] == mes\n",
    "df = df_3.loc[f]\n",
    "\n",
    "X_train=df.drop(columns=\"clase_ternaria\")\n",
    "y_train = df[\"clase_ternaria\"].copy()"
   ]
  },
  {
   "cell_type": "code",
   "execution_count": 14,
   "id": "a15e9c7a",
   "metadata": {},
   "outputs": [
    {
     "name": "stderr",
     "output_type": "stream",
     "text": [
      "[I 2025-09-14 15:04:59,880] Using an existing study with name 'exp_206_random-forest-opt' instead of creating a new one.\n"
     ]
    },
    {
     "name": "stdout",
     "output_type": "stream",
     "text": [
      "llegamos aca\n"
     ]
    },
    {
     "name": "stderr",
     "output_type": "stream",
     "text": [
      "[I 2025-09-14 15:07:07,284] Trial 10 finished with value: 343640000.0 and parameters: {'max_depth': 22, 'min_samples_split': 261, 'min_samples_leaf': 94, 'max_features': 0.2299885083191261}. Best is trial 10 with value: 343640000.0.\n",
      "[I 2025-09-14 15:12:09,309] Trial 11 finished with value: 303960000.0 and parameters: {'max_depth': 20, 'min_samples_split': 1908, 'min_samples_leaf': 186, 'max_features': 0.5538808046995977}. Best is trial 10 with value: 343640000.0.\n",
      "[I 2025-09-14 15:13:15,334] Trial 12 finished with value: 331420000.0 and parameters: {'max_depth': 11, 'min_samples_split': 43, 'min_samples_leaf': 99, 'max_features': 0.07087914882724963}. Best is trial 10 with value: 343640000.0.\n",
      "[I 2025-09-14 15:14:04,424] Trial 13 finished with value: 326000000.0 and parameters: {'max_depth': 11, 'min_samples_split': 133, 'min_samples_leaf': 98, 'max_features': 0.07073947501806671}. Best is trial 10 with value: 343640000.0.\n",
      "[I 2025-09-14 15:14:44,944] Trial 14 finished with value: 326720000.0 and parameters: {'max_depth': 13, 'min_samples_split': 543, 'min_samples_leaf': 99, 'max_features': 0.05792432530745817}. Best is trial 10 with value: 343640000.0.\n",
      "[I 2025-09-14 15:15:56,048] Trial 15 finished with value: 312480000.0 and parameters: {'max_depth': 11, 'min_samples_split': 681, 'min_samples_leaf': 3, 'max_features': 0.16227194788642282}. Best is trial 10 with value: 343640000.0.\n",
      "[I 2025-09-14 15:21:33,548] Trial 16 finished with value: 324520000.0 and parameters: {'max_depth': 24, 'min_samples_split': 130, 'min_samples_leaf': 133, 'max_features': 0.6829461400708698}. Best is trial 10 with value: 343640000.0.\n",
      "[I 2025-09-14 15:22:54,713] Trial 17 finished with value: 328840000.0 and parameters: {'max_depth': 15, 'min_samples_split': 735, 'min_samples_leaf': 75, 'max_features': 0.15731863775512464}. Best is trial 10 with value: 343640000.0.\n",
      "[I 2025-09-14 15:23:51,378] Trial 18 finished with value: 335900000.0 and parameters: {'max_depth': 9, 'min_samples_split': 357, 'min_samples_leaf': 119, 'max_features': 0.13523301710115748}. Best is trial 10 with value: 343640000.0.\n",
      "[I 2025-09-14 15:24:46,295] Trial 19 finished with value: 330300000.0 and parameters: {'max_depth': 7, 'min_samples_split': 472, 'min_samples_leaf': 157, 'max_features': 0.1652025994631723}. Best is trial 10 with value: 343640000.0.\n",
      "[I 2025-09-14 15:26:31,156] Trial 20 finished with value: 328480000.0 and parameters: {'max_depth': 23, 'min_samples_split': 838, 'min_samples_leaf': 160, 'max_features': 0.198509572861848}. Best is trial 10 with value: 343640000.0.\n",
      "[I 2025-09-14 15:29:13,314] Trial 21 finished with value: 336600000.0 and parameters: {'max_depth': 15, 'min_samples_split': 382, 'min_samples_leaf': 118, 'max_features': 0.37445736830281284}. Best is trial 10 with value: 343640000.0.\n",
      "[I 2025-09-14 15:32:03,743] Trial 22 finished with value: 328340000.0 and parameters: {'max_depth': 16, 'min_samples_split': 892, 'min_samples_leaf': 70, 'max_features': 0.3639612789473024}. Best is trial 10 with value: 343640000.0.\n",
      "[I 2025-09-14 15:33:09,985] Trial 23 finished with value: 337200000.0 and parameters: {'max_depth': 14, 'min_samples_split': 423, 'min_samples_leaf': 112, 'max_features': 0.12780731164773723}. Best is trial 10 with value: 343640000.0.\n",
      "[I 2025-09-14 15:37:26,720] Trial 24 finished with value: 334580000.0 and parameters: {'max_depth': 18, 'min_samples_split': 285, 'min_samples_leaf': 116, 'max_features': 0.5463944704932037}. Best is trial 10 with value: 343640000.0.\n",
      "[I 2025-09-14 15:39:54,150] Trial 25 finished with value: 327580000.0 and parameters: {'max_depth': 14, 'min_samples_split': 572, 'min_samples_leaf': 80, 'max_features': 0.3488045419611378}. Best is trial 10 with value: 343640000.0.\n",
      "[I 2025-09-14 15:41:56,523] Trial 26 finished with value: 343420000.0 and parameters: {'max_depth': 24, 'min_samples_split': 246, 'min_samples_leaf': 156, 'max_features': 0.23640459509956988}. Best is trial 10 with value: 343640000.0.\n",
      "[I 2025-09-14 15:43:58,239] Trial 27 finished with value: 331660000.0 and parameters: {'max_depth': 27, 'min_samples_split': 202, 'min_samples_leaf': 158, 'max_features': 0.24119174282295955}. Best is trial 10 with value: 343640000.0.\n",
      "[I 2025-09-14 15:45:08,483] Trial 28 finished with value: 333700000.0 and parameters: {'max_depth': 24, 'min_samples_split': 28, 'min_samples_leaf': 172, 'max_features': 0.12409699178303366}. Best is trial 10 with value: 343640000.0.\n",
      "[I 2025-09-14 15:47:05,549] Trial 29 finished with value: 330120000.0 and parameters: {'max_depth': 20, 'min_samples_split': 657, 'min_samples_leaf': 84, 'max_features': 0.20669029584126872}. Best is trial 10 with value: 343640000.0.\n",
      "[I 2025-09-14 15:48:06,764] Trial 30 finished with value: 324380000.0 and parameters: {'max_depth': 22, 'min_samples_split': 411, 'min_samples_leaf': 144, 'max_features': 0.09897202421383991}. Best is trial 10 with value: 343640000.0.\n",
      "[I 2025-09-14 15:50:44,159] Trial 31 finished with value: 329280000.0 and parameters: {'max_depth': 26, 'min_samples_split': 942, 'min_samples_leaf': 133, 'max_features': 0.3049670513220917}. Best is trial 10 with value: 343640000.0.\n",
      "[I 2025-09-14 15:52:29,766] Trial 32 finished with value: 339660000.0 and parameters: {'max_depth': 31, 'min_samples_split': 247, 'min_samples_leaf': 115, 'max_features': 0.18633329958303513}. Best is trial 10 with value: 343640000.0.\n",
      "[I 2025-09-14 15:54:16,075] Trial 33 finished with value: 343100000.0 and parameters: {'max_depth': 32, 'min_samples_split': 235, 'min_samples_leaf': 111, 'max_features': 0.18848102851742726}. Best is trial 10 with value: 343640000.0.\n",
      "[I 2025-09-14 15:56:45,874] Trial 34 finished with value: 346460000.0 and parameters: {'max_depth': 31, 'min_samples_split': 235, 'min_samples_leaf': 89, 'max_features': 0.2688398569656583}. Best is trial 34 with value: 346460000.0.\n"
     ]
    }
   ],
   "source": [
    "n_trials=25\n",
    "study=optim_hiperp(X_train,y_train,n_trials= n_trials)"
   ]
  },
  {
   "cell_type": "code",
   "execution_count": 15,
   "id": "6b63e181",
   "metadata": {},
   "outputs": [
    {
     "data": {
      "text/plain": [
       "{'max_depth': 31,\n",
       " 'min_samples_split': 235,\n",
       " 'min_samples_leaf': 89,\n",
       " 'max_features': 0.2688398569656583}"
      ]
     },
     "execution_count": 15,
     "metadata": {},
     "output_type": "execute_result"
    }
   ],
   "source": [
    "study.best_params"
   ]
  },
  {
   "cell_type": "code",
   "execution_count": 16,
   "id": "af48c955",
   "metadata": {},
   "outputs": [
    {
     "data": {
      "text/plain": [
       "{'max_depth': 31,\n",
       " 'min_samples_split': 235,\n",
       " 'min_samples_leaf': 89,\n",
       " 'max_features': 0.2688398569656583}"
      ]
     },
     "execution_count": 16,
     "metadata": {},
     "output_type": "execute_result"
    }
   ],
   "source": [
    "study.best_trial.params"
   ]
  },
  {
   "cell_type": "code",
   "execution_count": null,
   "id": "e2a6a4e5",
   "metadata": {},
   "outputs": [],
   "source": [
    "import json\n",
    "\n",
    "best_params = study.best_trial.params\n",
    "\n",
    "with open(\"src/outputs/random_forest/model/best_params.json\", \"w\") as f:\n",
    "    json.dump(best_params, f, indent=4)  # indent=4 para que quede legible"
   ]
  },
  {
   "cell_type": "code",
   "execution_count": 9,
   "id": "b1e11536",
   "metadata": {},
   "outputs": [
    {
     "name": "stdout",
     "output_type": "stream",
     "text": [
      "{'max_depth': 31, 'min_samples_split': 235, 'min_samples_leaf': 89, 'max_features': 0.2688398569656583}\n"
     ]
    }
   ],
   "source": [
    "import json\n",
    "with open(\"src/outputs/random_forest/model/best_params.json\", \"r\") as f:\n",
    "    best_params = json.load(f)\n",
    "print(best_params)"
   ]
  },
  {
   "cell_type": "code",
   "execution_count": null,
   "id": "c06b96fe",
   "metadata": {},
   "outputs": [],
   "source": [
    "# best_params = study.best_params\n",
    "model = entrenamiento_rf(X_train, y_train,best_params)"
   ]
  },
  {
   "cell_type": "code",
   "execution_count": null,
   "id": "6e1a9b55",
   "metadata": {},
   "outputs": [],
   "source": [
    "# import joblib\n",
    "# model=joblib.load(\"src/outputs/random_forest/model/exp_206_random_forest_model_100.sav\")"
   ]
  },
  {
   "cell_type": "code",
   "execution_count": 15,
   "id": "a47dbd4c",
   "metadata": {},
   "outputs": [
    {
     "data": {
      "text/html": [
       "<div>\n",
       "<style scoped>\n",
       "    .dataframe tbody tr th:only-of-type {\n",
       "        vertical-align: middle;\n",
       "    }\n",
       "\n",
       "    .dataframe tbody tr th {\n",
       "        vertical-align: top;\n",
       "    }\n",
       "\n",
       "    .dataframe thead th {\n",
       "        text-align: right;\n",
       "    }\n",
       "</style>\n",
       "<table border=\"1\" class=\"dataframe\">\n",
       "  <thead>\n",
       "    <tr style=\"text-align: right;\">\n",
       "      <th></th>\n",
       "      <th>numero_de_cliente</th>\n",
       "      <th>foto_mes</th>\n",
       "      <th>active_quarter</th>\n",
       "      <th>cliente_vip</th>\n",
       "      <th>internet</th>\n",
       "      <th>cliente_edad</th>\n",
       "      <th>cliente_antiguedad</th>\n",
       "      <th>mrentabilidad</th>\n",
       "      <th>mrentabilidad_annual</th>\n",
       "      <th>mcomisiones</th>\n",
       "      <th>...</th>\n",
       "      <th>delta_1_Visa_fechaalta</th>\n",
       "      <th>delta_2_Visa_fechaalta</th>\n",
       "      <th>delta_1_Visa_mconsumototal</th>\n",
       "      <th>delta_2_Visa_mconsumototal</th>\n",
       "      <th>delta_1_Visa_cconsumos</th>\n",
       "      <th>delta_2_Visa_cconsumos</th>\n",
       "      <th>delta_1_Visa_cadelantosefectivo</th>\n",
       "      <th>delta_2_Visa_cadelantosefectivo</th>\n",
       "      <th>delta_1_Visa_mpagominimo</th>\n",
       "      <th>delta_2_Visa_mpagominimo</th>\n",
       "    </tr>\n",
       "  </thead>\n",
       "  <tbody>\n",
       "    <tr>\n",
       "      <th>3</th>\n",
       "      <td>249320580.0</td>\n",
       "      <td>202104.0</td>\n",
       "      <td>1.0</td>\n",
       "      <td>0.0</td>\n",
       "      <td>0.0</td>\n",
       "      <td>64.0</td>\n",
       "      <td>282.0</td>\n",
       "      <td>3122.15</td>\n",
       "      <td>19147.05</td>\n",
       "      <td>2472.63</td>\n",
       "      <td>...</td>\n",
       "      <td>30.0</td>\n",
       "      <td>61.0</td>\n",
       "      <td>0.00</td>\n",
       "      <td>0.00</td>\n",
       "      <td>0.0</td>\n",
       "      <td>0.0</td>\n",
       "      <td>0.0</td>\n",
       "      <td>0.0</td>\n",
       "      <td>0.00</td>\n",
       "      <td>0.00</td>\n",
       "    </tr>\n",
       "    <tr>\n",
       "      <th>9</th>\n",
       "      <td>249368642.0</td>\n",
       "      <td>202104.0</td>\n",
       "      <td>1.0</td>\n",
       "      <td>0.0</td>\n",
       "      <td>0.0</td>\n",
       "      <td>52.0</td>\n",
       "      <td>259.0</td>\n",
       "      <td>-3278.95</td>\n",
       "      <td>-955.47</td>\n",
       "      <td>3558.26</td>\n",
       "      <td>...</td>\n",
       "      <td>30.0</td>\n",
       "      <td>61.0</td>\n",
       "      <td>2094.49</td>\n",
       "      <td>-6045.89</td>\n",
       "      <td>2.0</td>\n",
       "      <td>0.0</td>\n",
       "      <td>0.0</td>\n",
       "      <td>0.0</td>\n",
       "      <td>1888.53</td>\n",
       "      <td>1431.06</td>\n",
       "    </tr>\n",
       "    <tr>\n",
       "      <th>15</th>\n",
       "      <td>249483501.0</td>\n",
       "      <td>202104.0</td>\n",
       "      <td>1.0</td>\n",
       "      <td>0.0</td>\n",
       "      <td>0.0</td>\n",
       "      <td>52.0</td>\n",
       "      <td>319.0</td>\n",
       "      <td>713.47</td>\n",
       "      <td>11305.03</td>\n",
       "      <td>300.13</td>\n",
       "      <td>...</td>\n",
       "      <td>30.0</td>\n",
       "      <td>61.0</td>\n",
       "      <td>899.46</td>\n",
       "      <td>-4.29</td>\n",
       "      <td>1.0</td>\n",
       "      <td>-1.0</td>\n",
       "      <td>0.0</td>\n",
       "      <td>0.0</td>\n",
       "      <td>527.85</td>\n",
       "      <td>551.31</td>\n",
       "    </tr>\n",
       "    <tr>\n",
       "      <th>21</th>\n",
       "      <td>249493416.0</td>\n",
       "      <td>202104.0</td>\n",
       "      <td>1.0</td>\n",
       "      <td>0.0</td>\n",
       "      <td>0.0</td>\n",
       "      <td>56.0</td>\n",
       "      <td>259.0</td>\n",
       "      <td>4113.23</td>\n",
       "      <td>34716.24</td>\n",
       "      <td>3647.86</td>\n",
       "      <td>...</td>\n",
       "      <td>30.0</td>\n",
       "      <td>61.0</td>\n",
       "      <td>87.97</td>\n",
       "      <td>-2274.16</td>\n",
       "      <td>0.0</td>\n",
       "      <td>0.0</td>\n",
       "      <td>0.0</td>\n",
       "      <td>0.0</td>\n",
       "      <td>0.00</td>\n",
       "      <td>-117.30</td>\n",
       "    </tr>\n",
       "    <tr>\n",
       "      <th>27</th>\n",
       "      <td>249494219.0</td>\n",
       "      <td>202104.0</td>\n",
       "      <td>1.0</td>\n",
       "      <td>0.0</td>\n",
       "      <td>0.0</td>\n",
       "      <td>57.0</td>\n",
       "      <td>376.0</td>\n",
       "      <td>-1902.65</td>\n",
       "      <td>-111.00</td>\n",
       "      <td>1068.38</td>\n",
       "      <td>...</td>\n",
       "      <td>30.0</td>\n",
       "      <td>61.0</td>\n",
       "      <td>-1083.00</td>\n",
       "      <td>2187.42</td>\n",
       "      <td>2.0</td>\n",
       "      <td>-1.0</td>\n",
       "      <td>0.0</td>\n",
       "      <td>0.0</td>\n",
       "      <td>-2862.12</td>\n",
       "      <td>-2334.27</td>\n",
       "    </tr>\n",
       "  </tbody>\n",
       "</table>\n",
       "<p>5 rows × 682 columns</p>\n",
       "</div>"
      ],
      "text/plain": [
       "    numero_de_cliente  foto_mes  active_quarter  cliente_vip  internet  \\\n",
       "3         249320580.0  202104.0             1.0          0.0       0.0   \n",
       "9         249368642.0  202104.0             1.0          0.0       0.0   \n",
       "15        249483501.0  202104.0             1.0          0.0       0.0   \n",
       "21        249493416.0  202104.0             1.0          0.0       0.0   \n",
       "27        249494219.0  202104.0             1.0          0.0       0.0   \n",
       "\n",
       "    cliente_edad  cliente_antiguedad  mrentabilidad  mrentabilidad_annual  \\\n",
       "3           64.0               282.0        3122.15              19147.05   \n",
       "9           52.0               259.0       -3278.95               -955.47   \n",
       "15          52.0               319.0         713.47              11305.03   \n",
       "21          56.0               259.0        4113.23              34716.24   \n",
       "27          57.0               376.0       -1902.65               -111.00   \n",
       "\n",
       "    mcomisiones  ...  delta_1_Visa_fechaalta  delta_2_Visa_fechaalta  \\\n",
       "3       2472.63  ...                    30.0                    61.0   \n",
       "9       3558.26  ...                    30.0                    61.0   \n",
       "15       300.13  ...                    30.0                    61.0   \n",
       "21      3647.86  ...                    30.0                    61.0   \n",
       "27      1068.38  ...                    30.0                    61.0   \n",
       "\n",
       "    delta_1_Visa_mconsumototal  delta_2_Visa_mconsumototal  \\\n",
       "3                         0.00                        0.00   \n",
       "9                      2094.49                    -6045.89   \n",
       "15                      899.46                       -4.29   \n",
       "21                       87.97                    -2274.16   \n",
       "27                    -1083.00                     2187.42   \n",
       "\n",
       "    delta_1_Visa_cconsumos  delta_2_Visa_cconsumos  \\\n",
       "3                      0.0                     0.0   \n",
       "9                      2.0                     0.0   \n",
       "15                     1.0                    -1.0   \n",
       "21                     0.0                     0.0   \n",
       "27                     2.0                    -1.0   \n",
       "\n",
       "    delta_1_Visa_cadelantosefectivo  delta_2_Visa_cadelantosefectivo  \\\n",
       "3                               0.0                              0.0   \n",
       "9                               0.0                              0.0   \n",
       "15                              0.0                              0.0   \n",
       "21                              0.0                              0.0   \n",
       "27                              0.0                              0.0   \n",
       "\n",
       "    delta_1_Visa_mpagominimo  delta_2_Visa_mpagominimo  \n",
       "3                       0.00                      0.00  \n",
       "9                    1888.53                   1431.06  \n",
       "15                    527.85                    551.31  \n",
       "21                      0.00                   -117.30  \n",
       "27                  -2862.12                  -2334.27  \n",
       "\n",
       "[5 rows x 682 columns]"
      ]
     },
     "execution_count": 15,
     "metadata": {},
     "output_type": "execute_result"
    }
   ],
   "source": [
    "Xtrain_rf_imp=_imputacion(X_train)\n",
    "Xtrain_rf_imp.head()"
   ]
  },
  {
   "cell_type": "markdown",
   "id": "d292f21d",
   "metadata": {},
   "source": [
    "# REDUCCION DE DIMENSIONALIDAD"
   ]
  },
  {
   "cell_type": "code",
   "execution_count": 16,
   "id": "54624c1c",
   "metadata": {},
   "outputs": [
    {
     "ename": "NameError",
     "evalue": "name 'distanceMatrix' is not defined",
     "output_type": "error",
     "traceback": [
      "\u001b[31m---------------------------------------------------------------------------\u001b[39m",
      "\u001b[31mNameError\u001b[39m                                 Traceback (most recent call last)",
      "\u001b[36mCell\u001b[39m\u001b[36m \u001b[39m\u001b[32mIn[16]\u001b[39m\u001b[32m, line 1\u001b[39m\n\u001b[32m----> \u001b[39m\u001b[32m1\u001b[39m md = \u001b[43mdistanceMatrix\u001b[49m(model, Xtrain_rf_imp)\n",
      "\u001b[31mNameError\u001b[39m: name 'distanceMatrix' is not defined"
     ]
    }
   ],
   "source": [
    "md = distanceMatrix(model, Xtrain_rf_imp)"
   ]
  },
  {
   "cell_type": "code",
   "execution_count": null,
   "id": "ace644e4",
   "metadata": {},
   "outputs": [],
   "source": []
  }
 ],
 "metadata": {
  "kernelspec": {
   "display_name": "env_comp1",
   "language": "python",
   "name": "python3"
  },
  "language_info": {
   "codemirror_mode": {
    "name": "ipython",
    "version": 3
   },
   "file_extension": ".py",
   "mimetype": "text/x-python",
   "name": "python",
   "nbconvert_exporter": "python",
   "pygments_lexer": "ipython3",
   "version": "3.11.9"
  }
 },
 "nbformat": 4,
 "nbformat_minor": 5
}
